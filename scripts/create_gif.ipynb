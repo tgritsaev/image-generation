{
 "cells": [
  {
   "cell_type": "code",
   "execution_count": 14,
   "metadata": {},
   "outputs": [],
   "source": [
    "# use this guide:\n",
    "# https://wandb.ai/_scott/gif-maker/reports/Create-Gifs-From-Images-Logged-to-Weights-Biases--VmlldzoyMTI4NDQx\n",
    "\n",
    "import wandb\n",
    "\n",
    "\n",
    "api = wandb.Api()\n",
    "# \"tgritsaev/dl2-gan-generation/3klayy6l\" dcgan\n",
    "# use your key\n",
    "RUN_KEY = \"tgritsaev/dl2-cvae-generation/13kqvpzt\"\n",
    "run = api.run(RUN_KEY)"
   ]
  },
  {
   "cell_type": "code",
   "execution_count": 15,
   "metadata": {},
   "outputs": [
    {
     "data": {
      "application/vnd.jupyter.widget-view+json": {
       "model_id": "3cfda592a6c74d5cad25bafa6b7d84d3",
       "version_major": 2,
       "version_minor": 0
      },
      "text/plain": [
       "  0%|          | 0/502 [00:00<?, ?it/s]"
      ]
     },
     "metadata": {},
     "output_type": "display_data"
    }
   ],
   "source": [
    "from tqdm.notebook import tqdm\n",
    "\n",
    "for file in tqdm(run.files()):\n",
    "    if file.name.endswith(\".png\"):\n",
    "        file.download()"
   ]
  },
  {
   "cell_type": "code",
   "execution_count": 16,
   "metadata": {},
   "outputs": [],
   "source": [
    "from PIL import Image\n",
    "\n",
    "DURATION = 5\n",
    "\n",
    "\n",
    "def images_to_gif(image_fnames, fname):\n",
    "    image_fnames.sort(key=lambda x: int(x.name.split(\"_\")[-2]))  # sort by step\n",
    "    frames = [Image.open(image) for image in image_fnames]\n",
    "    frame_one = frames[0]\n",
    "    frame_one.save(f\"{fname}.gif\", format=\"GIF\", append_images=frames, save_all=True, duration=DURATION, loop=0)"
   ]
  },
  {
   "cell_type": "code",
   "execution_count": 17,
   "metadata": {},
   "outputs": [],
   "source": [
    "import os\n",
    "from pathlib import Path\n",
    "\n",
    "fpaths = []\n",
    "for fname in os.listdir(\"media/images\"):\n",
    "    if \"test\" in fname:\n",
    "        fpaths.append(Path(f\"media/images/{fname}\"))\n",
    "images_to_gif(fpaths, \"generated_art_cvae\")"
   ]
  },
  {
   "cell_type": "code",
   "execution_count": 18,
   "metadata": {},
   "outputs": [],
   "source": [
    "fpaths = []\n",
    "for fname in os.listdir(\"media/images\"):\n",
    "    if \"train\" in fname:\n",
    "        fpaths.append(Path(f\"media/images/{fname}\"))\n",
    "images_to_gif(fpaths, \"recontsructed_art_cvae\")"
   ]
  },
  {
   "cell_type": "code",
   "execution_count": null,
   "metadata": {},
   "outputs": [],
   "source": []
  }
 ],
 "metadata": {
  "kernelspec": {
   "display_name": "Python 3",
   "language": "python",
   "name": "python3"
  },
  "language_info": {
   "codemirror_mode": {
    "name": "ipython",
    "version": 3
   },
   "file_extension": ".py",
   "mimetype": "text/x-python",
   "name": "python",
   "nbconvert_exporter": "python",
   "pygments_lexer": "ipython3",
   "version": "3.11.5"
  }
 },
 "nbformat": 4,
 "nbformat_minor": 2
}
