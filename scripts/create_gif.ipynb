{
 "cells": [
  {
   "cell_type": "code",
   "execution_count": 1,
   "metadata": {},
   "outputs": [],
   "source": [
    "# use this guide:\n",
    "# https://wandb.ai/_scott/gif-maker/reports/Create-Gifs-From-Images-Logged-to-Weights-Biases--VmlldzoyMTI4NDQx\n",
    "\n",
    "import wandb\n",
    "\n",
    "\n",
    "api = wandb.Api()\n",
    "RUN_KEY = \"tgritsaev/dl2-gan-generation/3klayy6l\" # use your key\n",
    "run = api.run(RUN_KEY)"
   ]
  },
  {
   "cell_type": "code",
   "execution_count": 9,
   "metadata": {},
   "outputs": [
    {
     "data": {
      "application/vnd.jupyter.widget-view+json": {
       "model_id": "327f2c1631584f82a11c967fe77023ab",
       "version_major": 2,
       "version_minor": 0
      },
      "text/plain": [
       "  0%|          | 0/1108 [00:00<?, ?it/s]"
      ]
     },
     "metadata": {},
     "output_type": "display_data"
    }
   ],
   "source": [
    "from tqdm.notebook import tqdm\n",
    "\n",
    "for file in tqdm(run.files()):\n",
    "    if file.name.endswith(\".png\") and file.name.find(\"test\") != -1:\n",
    "        file.download()"
   ]
  },
  {
   "cell_type": "code",
   "execution_count": 16,
   "metadata": {},
   "outputs": [],
   "source": [
    "from PIL import Image\n",
    "\n",
    "DURATION = 10\n",
    "\n",
    "\n",
    "def images_to_gif(image_fnames, fname):\n",
    "    image_fnames.sort(key=lambda x: int(x.name.split(\"_\")[-2]))  # sort by step\n",
    "    frames = [Image.open(image) for image in image_fnames]\n",
    "    frame_one = frames[0]\n",
    "    frame_one.save(f\"{fname}.gif\", format=\"GIF\", append_images=frames, save_all=True, duration=DURATION, loop=0)"
   ]
  },
  {
   "cell_type": "code",
   "execution_count": 17,
   "metadata": {},
   "outputs": [],
   "source": [
    "import os\n",
    "from pathlib import Path\n",
    "\n",
    "fpaths = []\n",
    "for fname in os.listdir(\"media/images\"):\n",
    "    fpaths.append(Path(f\"media/images/{fname}\"))\n",
    "images_to_gif(fpaths, \"sampled_cats\")"
   ]
  },
  {
   "cell_type": "code",
   "execution_count": 18,
   "metadata": {},
   "outputs": [],
   "source": []
  },
  {
   "cell_type": "code",
   "execution_count": null,
   "metadata": {},
   "outputs": [],
   "source": []
  }
 ],
 "metadata": {
  "kernelspec": {
   "display_name": "Python 3",
   "language": "python",
   "name": "python3"
  },
  "language_info": {
   "codemirror_mode": {
    "name": "ipython",
    "version": 3
   },
   "file_extension": ".py",
   "mimetype": "text/x-python",
   "name": "python",
   "nbconvert_exporter": "python",
   "pygments_lexer": "ipython3",
   "version": "3.11.5"
  }
 },
 "nbformat": 4,
 "nbformat_minor": 2
}
